{
 "cells": [
  {
   "cell_type": "markdown",
   "id": "c7a42bbc",
   "metadata": {},
   "source": [
    "### **Task 13 Submission**"
   ]
  },
  {
   "cell_type": "markdown",
   "id": "596aa9f8",
   "metadata": {},
   "source": [
    "**Question 1**\n",
    "- Create a 6x6 NumPy array with random integers between 1 and 50.\n",
    "- Display the array."
   ]
  },
  {
   "cell_type": "code",
   "execution_count": null,
   "id": "1a7692f6",
   "metadata": {},
   "outputs": [
    {
     "name": "stdout",
     "output_type": "stream",
     "text": [
      "The 6 x 6 array:\n",
      " [[23 35 49 20 11 27]\n",
      " [24 45  7 17  4  4]\n",
      " [ 1 28 14 42 38 35]\n",
      " [17  7 20 39 26 45]\n",
      " [ 9 24  1 24  1 31]\n",
      " [17 45 42 34 17 25]]\n",
      "The 6x6 using default range:\n",
      " [[42 48 33 42 20  4]\n",
      " [ 6 30 16 40 44 21]\n",
      " [36  1 14 33 14  6]\n",
      " [42 24 32 11 44  7]\n",
      " [12 35 47 50 12 45]\n",
      " [ 7 45  6 12 13 20]]\n"
     ]
    }
   ],
   "source": [
    "# 6 by 6 array array with random int between (1,50)\n",
    "\n",
    "import numpy as np\n",
    "\n",
    "\n",
    "array = np.random.randint(1,51, [6,6])\n",
    "print(\"The 6 x 6 array:\\n\", array)\n",
    "\n",
    "# Alternative using default range\n",
    "rng = np.random.default_rng()\n",
    "array_6 = rng.integers(1,51, size=(6,6))\n",
    "print(\"The 6x6 using default range:\\n\", array_6)"
   ]
  },
  {
   "cell_type": "markdown",
   "id": "8146afe1",
   "metadata": {},
   "source": [
    "**Question 2**\n",
    "\n",
    "Extract the following from the array you created in \n",
    "- The first two rows.\n",
    "- The last three columns. \n",
    "- All even numbers in the array."
   ]
  },
  {
   "cell_type": "code",
   "execution_count": 14,
   "id": "aea19a33",
   "metadata": {},
   "outputs": [
    {
     "name": "stdout",
     "output_type": "stream",
     "text": [
      "First two rows are:\n",
      " [[42 48 33 42 20  4]\n",
      " [ 6 30 16 40 44 21]]\n",
      "Last three columns are:\n",
      " [[42 20  4]\n",
      " [40 44 21]\n",
      " [33 14  6]\n",
      " [11 44  7]\n",
      " [50 12 45]\n",
      " [12 13 20]]\n",
      "The even numbers are:\n",
      " [42 48 42 20  4  6 30 16 40 44 36 14 14  6 42 24 32 44 12 50 12  6 12 20]\n"
     ]
    }
   ],
   "source": [
    "# Extarcting the first two rows\n",
    "\n",
    "arrays = np.array(array_6)\n",
    "print(\"First two rows are:\\n\", arrays[0:2])\n",
    "\n",
    "# Extracting the last three columns\n",
    "arrays = np.array(array_6)\n",
    "print(\"Last three columns are:\\n\", arrays[:, 3:])\n",
    "\n",
    "# Extracting the even numbers from the array\n",
    "arrays = np.array(array_6)\n",
    "even_nums = arrays[arrays%2==0]\n",
    "print(\"The even numbers are:\\n\", even_nums)"
   ]
  },
  {
   "cell_type": "markdown",
   "id": "66f23cb5",
   "metadata": {},
   "source": [
    "**Question 3**"
   ]
  },
  {
   "cell_type": "markdown",
   "id": "f160da84",
   "metadata": {},
   "source": [
    "Perform the following array transformations: \n",
    "- Reshape the array into a 3D (3, 2, 6) array. \n",
    "- Flatten the reshaped array back to 1D."
   ]
  },
  {
   "cell_type": "code",
   "execution_count": 16,
   "id": "17990d6f",
   "metadata": {},
   "outputs": [
    {
     "name": "stdout",
     "output_type": "stream",
     "text": [
      "Reshaped array (3by2by6): [[[42 48 33 42 20  4]\n",
      "  [ 6 30 16 40 44 21]]\n",
      "\n",
      " [[36  1 14 33 14  6]\n",
      "  [42 24 32 11 44  7]]\n",
      "\n",
      " [[12 35 47 50 12 45]\n",
      "  [ 7 45  6 12 13 20]]]\n",
      "Flatten array (1D): [42 48 33 42 20  4  6 30 16 40 44 21 36  1 14 33 14  6 42 24 32 11 44  7\n",
      " 12 35 47 50 12 45  7 45  6 12 13 20]\n"
     ]
    }
   ],
   "source": [
    "# Reshaping the array above into 3D\n",
    "reshaped_3D = arrays.reshape(3, 2, 6)\n",
    "print(\"Reshaped array (3by2by6):\", reshaped_3D)\n",
    "\n",
    "# Flattening the reshaped array to 1D\n",
    "\n",
    "flattened = arrays.flatten()\n",
    "print(\"Flatten array (1D):\", flattened)\n"
   ]
  },
  {
   "cell_type": "markdown",
   "id": "26c34181",
   "metadata": {},
   "source": [
    "**Question 4**\n",
    "\n",
    "- Generate a 4x4 identity matrix and \n",
    "- Replace the diagonal with numbers from 10 to 40, with a step of 10."
   ]
  },
  {
   "cell_type": "code",
   "execution_count": 22,
   "id": "5d737361",
   "metadata": {},
   "outputs": [
    {
     "name": "stdout",
     "output_type": "stream",
     "text": [
      "Identity matrix:\n",
      " [[1. 0. 0. 0.]\n",
      " [0. 1. 0. 0.]\n",
      " [0. 0. 1. 0.]\n",
      " [0. 0. 0. 1.]]\n",
      "The replaced numbers are:\n",
      " [10 20 30]\n"
     ]
    }
   ],
   "source": [
    "# Generate a 4x4 identity matrix\n",
    "identity = np.eye(4)\n",
    "print(\"Identity matrix:\\n\", identity)\n",
    "\n",
    "diagonal_no = np.arange(10, 40, 10)\n",
    "np.fill_diagonal(identity, diagonal_no)\n",
    "print(\"The replaced numbers are:\\n\", diagonal_no)"
   ]
  },
  {
   "cell_type": "markdown",
   "id": "2df82dcc",
   "metadata": {},
   "source": [
    "**Question 5**\n",
    "\n",
    "Perform matrix multiplication between: \n",
    "- A 3x4 matrix of random integers (1-10) and A 4x3 matrix of random integers (1-10)\n"
   ]
  },
  {
   "cell_type": "code",
   "execution_count": 27,
   "id": "91ea7c17",
   "metadata": {},
   "outputs": [
    {
     "name": "stdout",
     "output_type": "stream",
     "text": [
      "Matrix 1:\n",
      " [[ 9  7  3  4]\n",
      " [ 2  9  2 10]\n",
      " [ 8  7  4  6]]\n",
      "Matrix 2:\n",
      " [[ 6 10  3]\n",
      " [ 6  6  9]\n",
      " [ 6  5 10]\n",
      " [ 7  6  9]]\n",
      "Reshaped Matrix:\n",
      " [[ 6 10  3  6]\n",
      " [ 6  9  6  5]\n",
      " [10  7  6  9]]\n",
      "Multiplication: [[54 70  9 24]\n",
      " [12 81 12 50]\n",
      " [80 49 24 54]]\n"
     ]
    }
   ],
   "source": [
    "# Generate 3x4 random integers\n",
    "\n",
    "matrix1 = np.random.randint(1,11, [3, 4])\n",
    "matrix2 = np.random.randint(1,11, [4, 3])\n",
    "\n",
    "# # Display the matrix\n",
    "# matrix_1 = np.array([matrix1])\n",
    "# matrix_2 = np.array([matrix2])\n",
    "\n",
    "# Reshape matrix_2 to 3 rows 4 columns\n",
    "reshape = matrix2.reshape(3,4)\n",
    "\n",
    "print(\"Matrix 1:\\n\", matrix1)\n",
    "print(\"Matrix 2:\\n\", matrix2)\n",
    "print(\"Reshaped Matrix:\\n\", reshape)\n",
    "print(\"Multiplication:\", matrix1 * reshape)\n"
   ]
  },
  {
   "cell_type": "markdown",
   "id": "1aca94ca",
   "metadata": {},
   "source": [
    "**Question 6**\n",
    "\n",
    "Create a function that takes a 2D NumPy array as input and returns a new array where: \n",
    "\n",
    "- All even numbers are squared. \n",
    "- All odd numbers are replaced by -1."
   ]
  },
  {
   "cell_type": "code",
   "execution_count": null,
   "id": "58da3753",
   "metadata": {},
   "outputs": [
    {
     "name": "stdout",
     "output_type": "stream",
     "text": [
      "---Operations on 2D NumPy---\n",
      "[[  0  -1   4  -1  16]\n",
      " [ -1  36  -1  64  -1]\n",
      " [100  -1 144  -1 196]\n",
      " [ -1 256  -1 324  -1]]\n"
     ]
    }
   ],
   "source": [
    "# Generate a function\n",
    "\n",
    "def array_input():\n",
    "    # Display output message\n",
    "    print(\"---Operations on 2D NumPy---\")\n",
    "\n",
    "    # collect input\n",
    "    arr_rows = np.array(int(input(\"Please enter the number of rows: \")))\n",
    "    arr_cols = np.array(int(input(\"Please enter the number ofcolums: \")))\n",
    "\n",
    "    # range the numbers and reshape the columns and rows\n",
    "    array = np.arange(arr_rows*arr_cols).reshape(arr_rows, arr_cols)\n",
    "\n",
    "    new_array = np.where(array % 2 == 0, array**2, -1)\n",
    "    return new_array\n",
    "\n",
    "print(array_input())"
   ]
  }
 ],
 "metadata": {
  "kernelspec": {
   "display_name": "my_vle",
   "language": "python",
   "name": "python3"
  },
  "language_info": {
   "codemirror_mode": {
    "name": "ipython",
    "version": 3
   },
   "file_extension": ".py",
   "mimetype": "text/x-python",
   "name": "python",
   "nbconvert_exporter": "python",
   "pygments_lexer": "ipython3",
   "version": "3.13.7"
  }
 },
 "nbformat": 4,
 "nbformat_minor": 5
}
