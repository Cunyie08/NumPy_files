{
 "cells": [
  {
   "cell_type": "markdown",
   "id": "b584df90",
   "metadata": {},
   "source": []
  },
  {
   "cell_type": "markdown",
   "id": "b3c30bdb",
   "metadata": {},
   "source": [
    "### **`Understanding NumPy`**"
   ]
  },
  {
   "cell_type": "markdown",
   "id": "a0c23d65",
   "metadata": {},
   "source": [
    "- Numpy aka Numerical python is the foundation library for scientific computing in Python.\n",
    "- It provides a powerful N-dimensional array object and tools for working with these arrays.\n",
    "- It is like the powerhouse of most data science libraries- Pandas uses Numpy arrays internally, Scikit-learn expects Numpy arrays for machine learning and matplotlib uses NumPy for plotting.\n",
    "\n",
    "- NumPy operations are implemented in C, making it 10-100x faster than pure Python\n",
    "- NumPy arrays store data more compactly than Python lists\n",
    "- Vectorization: Perform operations on entire arrays without writing loops.\n",
    "- Work with arrays of different shapes seamlessly\n",
    "Foundation for Pandas, Scikit-learn, matplotlib and more "
   ]
  },
  {
   "cell_type": "code",
   "execution_count": 2,
   "id": "3682b233",
   "metadata": {},
   "outputs": [
    {
     "name": "stdout",
     "output_type": "stream",
     "text": [
      "NumPy version: 2.3.2\n"
     ]
    }
   ],
   "source": [
    "# import all necessary libraries\n",
    "import numpy as np\n",
    "import matplotlib.pyplot as plt\n",
    "import time\n",
    "\n",
    "# Check NumPy version\n",
    "print(f\"NumPy version: {np.__version__}\")\n",
    "\n",
    "# Display settings for cleaner output\n",
    "np.set_printoptions(precision=2, suppress=True)"
   ]
  },
  {
   "cell_type": "markdown",
   "id": "87f3212c",
   "metadata": {},
   "source": [
    "**Creating NumPy Arrays**"
   ]
  },
  {
   "cell_type": "code",
   "execution_count": null,
   "id": "218c8c90",
   "metadata": {},
   "outputs": [],
   "source": [
    "# Creating arrays from Pyhton lists\n",
    "# 1D array: A simple sequence of numbers\n",
    "arr1d = np.array([1, 2, 3, 4, 5])\n",
    "\n",
    "# 2D array: Think of this as a matrix or table with rows and columns\n",
    "arr2d = np.array([[1, 2, 3], \n",
    "         [4, 5, 6]])\n",
    "\n",
    "# 3D array: Like a stack of 2D arrays - useful for images, time series\n",
    "arr3d = np.array([[[1, 2], [3, 4]], \n",
    "         [[5, 6], [7, 8]]])\n",
    "\n",
    "print(\"1D array:\", arr1d)\n",
    "print(\"2D array:\\n\", arr2d)\n",
    "print(\"3D array:\\n\", arr3d)"
   ]
  },
  {
   "cell_type": "markdown",
   "id": "464c18c1",
   "metadata": {},
   "source": [
    "When you pass a nested list to np.array(), NumPy automatically dtermines the dimensions. The 1D array is like single row, 2D is like a spreadsheet and 3D is like multiple speadsheets stacked together."
   ]
  },
  {
   "cell_type": "markdown",
   "id": "1b5ed8c2",
   "metadata": {},
   "source": [
    "**Creating Special Arrays in NumPy**"
   ]
  },
  {
   "cell_type": "code",
   "execution_count": null,
   "id": "95522ae9",
   "metadata": {},
   "outputs": [],
   "source": [
    "# Creating arrays filled with zeros - useful for initializing arrays \n",
    "# Shape (3, 4) means 3 rows and 4 columns\n",
    "zeros = np.zeros((3, 4))\n",
    "print(\"Zeros array (3x4):\\n\", zeros)\n",
    "\n",
    "\n",
    "# Creating arrays filled with ones - often used as starting points \n",
    "ones = np.ones((2, 3, 4)) # 3D array: 2 layers, 3 rows, 4 columns\n",
    "print(\"Ones array shape:\\n\", ones)\n",
    "print(\"Ones array shape:\\n\", ones.shape)\n",
    "\n",
    "# Empty array - faster than zeros/ones but contains random values\n",
    "# Use when you will immediately fill the array with real data\n",
    "empty = np.empty((2, 2))\n",
    "print(\"Empty array (contains random values):\\n\", empty)"
   ]
  },
  {
   "cell_type": "markdown",
   "id": "2c99389a",
   "metadata": {},
   "source": [
    "`zeros()` and `ones()` are memory-efficient ways to create arrays of specific sizes. `empty()` is fastest but contains garbage values, so only use it when you will immediately overwrite the contents."
   ]
  },
  {
   "cell_type": "code",
   "execution_count": 62,
   "id": "47b6e049",
   "metadata": {},
   "outputs": [
    {
     "name": "stdout",
     "output_type": "stream",
     "text": [
      "Range array: [ 0  3  6  9 12]\n",
      "Linspace array: [0.   0.25 0.5  0.75 1.  ]\n",
      "Logspace array: [  1.     3.16  10.    31.62 100.  ]\n"
     ]
    }
   ],
   "source": [
    "# Range arrays - like Python/s range but more efficient\n",
    "\n",
    "range_arr = np.arange(0, 15, 3) # Start Stop Step : [0, 3, 6, 9, 12]\n",
    "print(\"Range array:\", range_arr)\n",
    "\n",
    "# Linearly spaced arrays - divide a range into equal parts\n",
    "# From 0 to 1 with excatly 5 points (including endpoints)\n",
    "linspace_arr = np.linspace(0, 1, 5)\n",
    "print(\"Linspace array:\", linspace_arr)\n",
    "\n",
    "# Logarithmically spaced arrays - useful for scientic data\n",
    "# From 10^0 to 10^2 (1 to 100) with 5 points\n",
    "logspace_arr = np.logspace(0, 2, 5)\n",
    "print(\"Logspace array:\", logspace_arr)"
   ]
  },
  {
   "cell_type": "code",
   "execution_count": 6,
   "id": "05ef94ad",
   "metadata": {},
   "outputs": [
    {
     "name": "stdout",
     "output_type": "stream",
     "text": [
      "Identity matrix:\n",
      " [[1. 0. 0. 0. 0. 0. 0. 0. 0.]\n",
      " [0. 1. 0. 0. 0. 0. 0. 0. 0.]\n",
      " [0. 0. 1. 0. 0. 0. 0. 0. 0.]\n",
      " [0. 0. 0. 1. 0. 0. 0. 0. 0.]\n",
      " [0. 0. 0. 0. 1. 0. 0. 0. 0.]\n",
      " [0. 0. 0. 0. 0. 1. 0. 0. 0.]\n",
      " [0. 0. 0. 0. 0. 0. 1. 0. 0.]\n",
      " [0. 0. 0. 0. 0. 0. 0. 1. 0.]\n",
      " [0. 0. 0. 0. 0. 0. 0. 0. 1.]]\n",
      "Diagonal matrix:\n",
      " [[1 0 0 0]\n",
      " [0 2 0 0]\n",
      " [0 0 3 0]\n",
      " [0 0 0 4]]\n",
      "Full array (filled with 8):\n",
      " [[8 8 8 8]\n",
      " [8 8 8 8]\n",
      " [8 8 8 8]]\n"
     ]
    }
   ],
   "source": [
    "# Essential for linear algebra operations\n",
    "identity = np.eye(9)\n",
    "print(\"Identity matrix:\\n\", identity)\n",
    "\n",
    "# Diagonal matrix - put values on the diagonal\n",
    "diagonal = np.diag([1, 2, 3, 4])\n",
    "print(\"Diagonal matrix:\\n\", diagonal)\n",
    "\n",
    "# Array filled with a specific value\n",
    "full_arr = np.full((3, 4), 8)\n",
    "print(\"Full array (filled with 8):\\n\", full_arr)"
   ]
  },
  {
   "cell_type": "markdown",
   "id": "63aae688",
   "metadata": {},
   "source": [
    "**Numpy Data types**\n",
    "\n",
    "- Understanding data types is crucial for memory efficiency and numerical precision."
   ]
  },
  {
   "cell_type": "code",
   "execution_count": null,
   "id": "b34f9307",
   "metadata": {},
   "outputs": [
    {
     "name": "stdout",
     "output_type": "stream",
     "text": [
      "Integer array dtype: int32\n",
      "Float array dtype: float64\n",
      "Boolean array dtype: bool\n",
      "Converted array dtype: int32\n",
      "int32 uses 4 bytes per element\n",
      "float64 uses 8 bytes per element\n"
     ]
    }
   ],
   "source": [
    "# Explicit data types- control memory usage and precision.\n",
    "int_arr = np.array([1, 2, 3, 4], dtype=np.int32) # 32-bit integers\n",
    "float_arr = np.array([1, 2, 3], dtype=np.float64) \n",
    "bool_arr = np.array([True, False, True], dtype=np.bool_)\n",
    "\n",
    "# Type conversion - change dtype of existing array\n",
    "converted = int_arr.astype(np.float32) # convert to 32-bit float\n",
    "\n",
    "print(\"Integer array dtype:\", int_arr.dtype)\n",
    "print(\"Float array dtype:\", float_arr.dtype)\n",
    "print(\"Boolean array dtype:\", bool_arr.dtype)\n",
    "print(\"Converted array dtype:\", int_arr.dtype)\n",
    "\n",
    "# Memory usage comparison\n",
    "print(f\"int32 uses {int_arr.itemsize} bytes per element\")\n",
    "print(f\"float64 uses {float_arr.itemsize} bytes per element\")\n",
    "\n"
   ]
  },
  {
   "cell_type": "markdown",
   "id": "dd5e914e",
   "metadata": {},
   "source": [
    "- int8: 1 byte, range -128 to 127\n",
    "- int32: 4 bytes, range ±2 billion\n",
    "- float32: 4 bytes, ~7 decimal digits precision\n",
    "- float64: 8 bytes, ~15 decimal digits precision\n",
    "\n",
    "- Choose smaller types to save memory, larger types for precision"
   ]
  },
  {
   "cell_type": "markdown",
   "id": "0ca0505a",
   "metadata": {},
   "source": [
    "**Array Properties & Attributes**\n",
    "\n",
    "- Understanding array properties helps you work effectively with your data and debug issue"
   ]
  },
  {
   "cell_type": "code",
   "execution_count": 14,
   "id": "b811fc26",
   "metadata": {},
   "outputs": [
    {
     "name": "stdout",
     "output_type": "stream",
     "text": [
      "Shape:\n",
      " [[[ 1.58  0.69  1.08  0.86  2.02]\n",
      "  [-1.48  0.17  0.3  -0.21  0.3 ]\n",
      "  [ 0.41 -1.61 -0.03 -0.97 -0.25]\n",
      "  [ 0.94  0.4   0.07 -1.31 -0.28]]\n",
      "\n",
      " [[ 1.16 -1.03 -1.13 -0.95  0.04]\n",
      "  [-0.53  0.93  0.37  2.04  0.35]\n",
      "  [-0.27 -1.25  0.85 -0.15 -0.05]\n",
      "  [-1.04 -1.29  0.63 -0.55 -0.77]]\n",
      "\n",
      " [[-0.47  2.19  0.14 -1.07  0.13]\n",
      "  [-0.38  1.44  1.06  1.31  0.22]\n",
      "  [-1.35  0.25 -0.64 -0.14  0.09]\n",
      "  [ 1.58  0.73  0.19 -0.84  3.07]]]\n",
      "Size: 60\n",
      "Ndim: 3\n",
      "Dtype: float64\n",
      "Itemsize: 8\n",
      "Memory usage: 480 bytes\n",
      "Memory usage: 0.46875 KB\n"
     ]
    }
   ],
   "source": [
    "# Create a sample 3D array for demonstration\n",
    "# Think of this as 3 layers, each with 4 rows and 5 columns\n",
    "arr = np.random.randn(3, 4, 5)\n",
    "\n",
    "# Shape: The dimensions of the array (layers, rows, columns)\n",
    "print(\"Shape:\\n\", arr)           # Output: (3, 4, 5)\n",
    "\n",
    "# Size: Total number of elements (3 × 4 × 5 = 60)\n",
    "print(\"Size:\", arr.size)             \n",
    "\n",
    "# Ndim: Number of dimensions (3D in this case)\n",
    "print(\"Ndim:\", arr.ndim)             \n",
    "\n",
    "# Dtype: Data type of elements\n",
    "print(\"Dtype:\", arr.dtype)           # Usually float64 for random numbers\n",
    "\n",
    "# Itemsize: Memory size of each element in bytes\n",
    "print(\"Itemsize:\", arr.itemsize)     # 8 bytes for float64\n",
    "\n",
    "# Total memory usage in bytes\n",
    "print(\"Memory usage:\", arr.nbytes, \"bytes\")  # size × itemsize\n",
    "print(\"Memory usage:\", arr.nbytes / 1024, \"KB\")  # Convert to KB"
   ]
  },
  {
   "cell_type": "markdown",
   "id": "1a883f68",
   "metadata": {},
   "source": [
    "**Array Indexing & Slicing**"
   ]
  },
  {
   "cell_type": "markdown",
   "id": "7d9004e3",
   "metadata": {},
   "source": [
    " **Basic Indexing - Accessing Individual Elements**\n",
    "\n",
    "- NumPy indexing is similar to Python lists but more powerful for multi-dimensional arrays"
   ]
  },
  {
   "cell_type": "code",
   "execution_count": null,
   "id": "98b48ad7",
   "metadata": {},
   "outputs": [],
   "source": [
    "# 1D array indexing - similar to Python lists\n",
    "arr1d = np.array([20, 25, 30, 35, 40])\n",
    "\n",
    "print(\"First element:\", arr1d[0])     # Index 0: 20\n",
    "print(\"Last element:\", arr1d[-1])     # Negative indexing: 45 \n",
    "print(\"Slice [1:4]:\", arr1d[1:4])     # Elements 1, 2, 3: [25, 30, 35]\n",
    "print(\"Every 2nd element:\", arr1d[::2])  # Step of 2: [20, 30, 40]"
   ]
  },
  {
   "cell_type": "markdown",
   "id": "96c8bbfb",
   "metadata": {},
   "source": [
    "Negative indices count from the end (-1 is last element). Slicing uses [start:stop:step] where stop is exclusive."
   ]
  },
  {
   "cell_type": "code",
   "execution_count": 20,
   "id": "2b177ffc",
   "metadata": {},
   "outputs": [
    {
     "name": "stdout",
     "output_type": "stream",
     "text": [
      "Element at row 1, column 2: 7\n",
      "First row: [1 2 3 4]\n",
      "Second column: [ 3  7 11]\n",
      "Subarray (rows 1-2, cols 1-2):\n",
      " [[ 6  7  8]\n",
      " [10 11 12]]\n"
     ]
    }
   ],
   "source": [
    "# 2D array indexing - row and column access\n",
    "arr2d = np.array([[1, 2, 3, 4],\n",
    "                  [5, 6, 7, 8],\n",
    "                  [9, 10, 11, 12]])\n",
    "\n",
    "# Access specific element: [row, column]\n",
    "print(\"Element at row 1, column 2:\", arr2d[1, 2])        # 7\n",
    "\n",
    "# Access entire rows or columns\n",
    "print(\"First row:\", arr2d[0, :])               # All columns of row 0\n",
    "print(\"Second column:\", arr2d[:, 2])           # All rows of column 1\n",
    "\n",
    "# Subarray slicing: [row_start:row_end, col_start:col_end]\n",
    "print(\"Subarray (rows 1-2, cols 1-2):\\n\", arr2d[1:3, 1:4])"
   ]
  },
  {
   "cell_type": "markdown",
   "id": "ed4d14eb",
   "metadata": {},
   "source": [
    "**Advanced Indexing - Powerful Selection Methods**"
   ]
  },
  {
   "cell_type": "code",
   "execution_count": null,
   "id": "8712a03c",
   "metadata": {},
   "outputs": [],
   "source": [
    "# Fancy indexing - use arrays of indices to select elements\n",
    "arr = np.array([10, 20, 30, 40, 50])\n",
    "indices = np.array([0, 2, 4])  # Select elements at positions 0, 2, 4\n",
    "print(\"Fancy indexing:\", arr[indices])         # [10, 30, 50]\n",
    "\n",
    "# This is much more flexible than simple slicing\n",
    "random_indices = np.array([4, 1, 3, 1])  # Can repeat and reorder\n",
    "print(\"Random order:\", arr[random_indices])   # [50, 20, 40, 20]"
   ]
  },
  {
   "cell_type": "markdown",
   "id": "be887067",
   "metadata": {},
   "source": [
    "Fancy indexing lets you select elements in any order, repeat elements, and select non-contiguous elements. Very useful for data sampling and reordering."
   ]
  },
  {
   "cell_type": "code",
   "execution_count": 24,
   "id": "afcc9cc9",
   "metadata": {},
   "outputs": [
    {
     "name": "stdout",
     "output_type": "stream",
     "text": [
      "Original 2D array:\n",
      " [[ 0  1  2  3]\n",
      " [ 4  5  6  7]\n",
      " [ 8  9 10 11]]\n",
      "Elements at (0,1) and (2,3): [ 1 11]\n",
      "Selected rows:\n",
      " [[ 0  1  2  3]\n",
      " [ 8  9 10 11]]\n"
     ]
    }
   ],
   "source": [
    "# 2D fancy indexing - select specific row/column combinations\n",
    "arr2d = np.arange(12).reshape(3, 4)  # 3x4 array: [[0,1,2,3], [4,5,6,7], [8,9,10,11]]\n",
    "print(\"Original 2D array:\\n\", arr2d)\n",
    "\n",
    "# Select elements at (row, col) pairs: (0,1) and (2,3)\n",
    "rows = np.array([0, 2])\n",
    "cols = np.array([1, 3])\n",
    "print(\"Elements at (0,1) and (2,3):\", arr2d[rows, cols])  # [1, 11]\n",
    "\n",
    "# Select entire rows using fancy indexing\n",
    "selected_rows = arr2d[[0, 2], :]  # Rows 0 and 2, all columns\n",
    "print(\"Selected rows:\\n\", selected_rows)"
   ]
  },
  {
   "cell_type": "markdown",
   "id": "d722aa9a",
   "metadata": {},
   "source": [
    "**Array Reshaping & Manipulation**\n",
    "\n",
    "- Reshaping changes how the same data is organized in memory without changing the actual values."
   ]
  },
  {
   "cell_type": "code",
   "execution_count": null,
   "id": "34de8098",
   "metadata": {},
   "outputs": [],
   "source": [
    "# Start with a 1D array\n",
    "arr = np.arange(16)  # [0, 1, 2, 3, 4, 5, 6, 7, 8, 9, 10, 11]\n",
    "print(\"Original 1D array:\", arr)\n",
    "\n",
    "# Reshape to 2D: 3 rows × 4 columns\n",
    "reshaped_2d = arr.reshape(4, 4)\n",
    "print(\"Reshaped to 3x4:\\n\", reshaped_2d)\n",
    "\n",
    "# Reshape to 3D: 2 layers × 2 rows × 3 columns  \n",
    "reshaped_3d = arr.reshape(2, 2, 4)\n",
    "print(\"Reshaped to 2x2x3:\\n\", reshaped_3d)\n",
    "\n",
    "# Use -1 to let NumPy calculate one dimension automatically\n",
    "auto_reshape = arr.reshape(4, -1)  # 4 rows, NumPy calculates columns\n",
    "print(\"Auto-reshaped to 4x?:\\n\", auto_reshape)"
   ]
  },
  {
   "cell_type": "markdown",
   "id": "2b0e691c",
   "metadata": {},
   "source": [
    "The total number of elements must remain the same (12 in this case). Using -1 tells NumPy to calculate that dimension automatically. Reshaping creates a view when possible, not a copy"
   ]
  },
  {
   "cell_type": "code",
   "execution_count": 31,
   "id": "225e4741",
   "metadata": {},
   "outputs": [
    {
     "name": "stdout",
     "output_type": "stream",
     "text": [
      "Flattened (copy): [1 2 3 4 5 6]\n",
      "Ravel (view if possible): [1 2 3 4 5 6]\n",
      "After modifying original:\n",
      "Flattened (unchanged): [1 2 3 4 5 6]\n",
      "Ravel (changed): [999   2   3   4   5   6]\n"
     ]
    }
   ],
   "source": [
    "# Flattening - convert multi-dimensional array to 1D\n",
    "arr2d = np.array([[1, 2, 3], [4, 5, 6]])\n",
    "\n",
    "# flatten() always returns a copy\n",
    "flattened = arr2d.flatten()                 \n",
    "print(\"Flattened (copy):\", flattened)\n",
    "\n",
    "# ravel() returns a view if possible (faster, memory efficient)\n",
    "ravel = arr2d.ravel()                       \n",
    "print(\"Ravel (view if possible):\", ravel)\n",
    "\n",
    "# Demonstrate the difference\n",
    "arr2d[0, 0] = 999\n",
    "print(\"After modifying original:\")\n",
    "print(\"Flattened (unchanged):\", flattened)  # Copy is independent\n",
    "print(\"Ravel (changed):\", ravel)            # View reflects changes"
   ]
  }
 ],
 "metadata": {
  "kernelspec": {
   "display_name": "my_vle",
   "language": "python",
   "name": "python3"
  },
  "language_info": {
   "codemirror_mode": {
    "name": "ipython",
    "version": 3
   },
   "file_extension": ".py",
   "mimetype": "text/x-python",
   "name": "python",
   "nbconvert_exporter": "python",
   "pygments_lexer": "ipython3",
   "version": "3.13.7"
  }
 },
 "nbformat": 4,
 "nbformat_minor": 5
}
