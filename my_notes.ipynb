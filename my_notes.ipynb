{
 "cells": [
  {
   "cell_type": "markdown",
   "id": "b584df90",
   "metadata": {},
   "source": []
  },
  {
   "cell_type": "markdown",
   "id": "b3c30bdb",
   "metadata": {},
   "source": [
    "### **`Understanding NumPy`**"
   ]
  },
  {
   "cell_type": "markdown",
   "id": "a0c23d65",
   "metadata": {},
   "source": [
    "- Numpy aka Numerical python is the foundation library for scientific computing in Python.\n",
    "- It provides a powerful N-dimensional array object and tools for working with these arrays.\n",
    "- It is like the powerhouse of most data science libraries- Pandas uses Numpy arrays internally, Scikit-learn expects Numpy arrays for machine learning and matplotlib uses NumPy for plotting."
   ]
  },
  {
   "cell_type": "code",
   "execution_count": null,
   "id": "3682b233",
   "metadata": {},
   "outputs": [],
   "source": []
  }
 ],
 "metadata": {
  "kernelspec": {
   "display_name": "my_vle",
   "language": "python",
   "name": "python3"
  },
  "language_info": {
   "codemirror_mode": {
    "name": "ipython",
    "version": 3
   },
   "file_extension": ".py",
   "mimetype": "text/x-python",
   "name": "python",
   "nbconvert_exporter": "python",
   "pygments_lexer": "ipython3",
   "version": "3.13.7"
  }
 },
 "nbformat": 4,
 "nbformat_minor": 5
}
