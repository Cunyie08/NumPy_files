{
 "cells": [
  {
   "cell_type": "markdown",
   "id": "b584df90",
   "metadata": {},
   "source": []
  },
  {
   "cell_type": "markdown",
   "id": "b3c30bdb",
   "metadata": {},
   "source": [
    "### **`Understanding NumPy`**"
   ]
  },
  {
   "cell_type": "markdown",
   "id": "a0c23d65",
   "metadata": {},
   "source": [
    "- Numpy aka Numerical python is the foundation library for scientific computing in Python.\n",
    "- It provides a powerful N-dimensional array object and tools for working with these arrays.\n",
    "- It is like the powerhouse of most data science libraries- Pandas uses Numpy arrays internally, Scikit-learn expects Numpy arrays for machine learning and matplotlib uses NumPy for plotting.\n",
    "\n",
    "- NumPy operations are implemented in C, making it 10-100x faster than pure Python\n",
    "- NumPy arrays store data more compactly than Python lists\n",
    "- Vectorization: Perform operations on entire arrays without writing loops.\n",
    "- Work with arrays of different shapes seamlessly\n",
    "Foundation for Pandas, Scikit-learn, matplotlib and more "
   ]
  },
  {
   "cell_type": "code",
   "execution_count": 1,
   "id": "3682b233",
   "metadata": {},
   "outputs": [
    {
     "name": "stdout",
     "output_type": "stream",
     "text": [
      "NumPy version: 2.3.2\n"
     ]
    }
   ],
   "source": [
    "# import all necessary libraries\n",
    "import numpy as np\n",
    "import matplotlib.pyplot as plt\n",
    "import time\n",
    "\n",
    "# Check NumPy version\n",
    "print(f\"NumPy version: {np.__version__}\")\n",
    "\n",
    "# Display settings for cleaner output\n",
    "np.set_printoptions(precision=2, suppress=True)"
   ]
  },
  {
   "cell_type": "markdown",
   "id": "87f3212c",
   "metadata": {},
   "source": [
    "**Creating NumPy Arrays**"
   ]
  },
  {
   "cell_type": "code",
   "execution_count": null,
   "id": "218c8c90",
   "metadata": {},
   "outputs": [],
   "source": [
    "# Creating arrays from Pyhton lists\n",
    "# 1D array: A simple sequence of numbers\n",
    "arr1d = np.array([1, 2, 3, 4, 5])\n",
    "\n",
    "# 2D array: Think of this as a matrix or table with rows and columns\n",
    "arr2d = np.array([[1, 2, 3], \n",
    "         [4, 5, 6]])\n",
    "\n",
    "# 3D array: Like a stack of 2D arrays - useful for images, time series\n",
    "arr3d = np.array([[[1, 2], [3, 4]], \n",
    "         [[5, 6], [7, 8]]])\n",
    "\n",
    "print(\"1D array:\", arr1d)\n",
    "print(\"2D array:\\n\", arr2d)\n",
    "print(\"3D array:\\n\", arr3d)"
   ]
  },
  {
   "cell_type": "markdown",
   "id": "464c18c1",
   "metadata": {},
   "source": [
    "When you pass a nested list to np.array(), NumPy automatically dtermines the dimensions. The 1D array is like single row, 2D is like a spreadsheet and 3D is like multiple speadsheets stacked together."
   ]
  },
  {
   "cell_type": "markdown",
   "id": "1b5ed8c2",
   "metadata": {},
   "source": [
    "**Creating Special Arrays in NumPy**"
   ]
  },
  {
   "cell_type": "code",
   "execution_count": null,
   "id": "95522ae9",
   "metadata": {},
   "outputs": [],
   "source": [
    "# Creating arrays filled with zeros - useful for initializing arrays \n",
    "# Shape (3, 4) means 3 rows and 4 columns\n",
    "zeros = np.zeros((3, 4))\n",
    "print(\"Zeros array (3x4):\\n\", zeros)\n",
    "\n",
    "\n",
    "# Creating arrays filled with ones - often used as starting points \n",
    "ones = np.ones((2, 3, 4)) # 3D array: 2 layers, 3 rows, 4 columns\n",
    "print(\"Ones array shape:\\n\", ones)\n",
    "print(\"Ones array shape:\\n\", ones.shape)\n",
    "\n",
    "# Empty array - faster than zeros/ones but contains random values\n",
    "# Use when you will immediately fill the array with real data\n",
    "empty = np.empty((2, 2))\n",
    "print(\"Empty array (contains random values):\\n\", empty)"
   ]
  },
  {
   "cell_type": "markdown",
   "id": "2c99389a",
   "metadata": {},
   "source": [
    "`zeros()` and `ones()` are memory-efficient ways to create arrays of specific sizes. `empty()` is fastest but contains garbage values, so only use it when you will immediately overwrite the contents."
   ]
  },
  {
   "cell_type": "code",
   "execution_count": 62,
   "id": "47b6e049",
   "metadata": {},
   "outputs": [
    {
     "name": "stdout",
     "output_type": "stream",
     "text": [
      "Range array: [ 0  3  6  9 12]\n",
      "Linspace array: [0.   0.25 0.5  0.75 1.  ]\n",
      "Logspace array: [  1.     3.16  10.    31.62 100.  ]\n"
     ]
    }
   ],
   "source": [
    "# Range arrays - like Python/s range but more efficient\n",
    "\n",
    "range_arr = np.arange(0, 15, 3) # Start Stop Step : [0, 3, 6, 9, 12]\n",
    "print(\"Range array:\", range_arr)\n",
    "\n",
    "# Linearly spaced arrays - divide a range into equal parts\n",
    "# From 0 to 1 with excatly 5 points (including endpoints)\n",
    "linspace_arr = np.linspace(0, 1, 5)\n",
    "print(\"Linspace array:\", linspace_arr)\n",
    "\n",
    "# Logarithmically spaced arrays - useful for scientic data\n",
    "# From 10^0 to 10^2 (1 to 100) with 5 points\n",
    "logspace_arr = np.logspace(0, 2, 5)\n",
    "print(\"Logspace array:\", logspace_arr)"
   ]
  }
 ],
 "metadata": {
  "kernelspec": {
   "display_name": "my_vle",
   "language": "python",
   "name": "python3"
  },
  "language_info": {
   "codemirror_mode": {
    "name": "ipython",
    "version": 3
   },
   "file_extension": ".py",
   "mimetype": "text/x-python",
   "name": "python",
   "nbconvert_exporter": "python",
   "pygments_lexer": "ipython3",
   "version": "3.13.7"
  }
 },
 "nbformat": 4,
 "nbformat_minor": 5
}
